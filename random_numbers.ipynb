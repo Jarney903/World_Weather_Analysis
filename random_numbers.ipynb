{
 "cells": [
  {
   "cell_type": "code",
   "execution_count": 1,
   "id": "51491937",
   "metadata": {},
   "outputs": [],
   "source": [
    "# Import the random module.\n",
    "import random"
   ]
  },
  {
   "cell_type": "code",
   "execution_count": 3,
   "id": "4cbe82b6",
   "metadata": {},
   "outputs": [
    {
     "data": {
      "text/plain": [
       "40"
      ]
     },
     "execution_count": 3,
     "metadata": {},
     "output_type": "execute_result"
    }
   ],
   "source": [
    "random.randint(-90,90)"
   ]
  },
  {
   "cell_type": "code",
   "execution_count": 4,
   "id": "781cae09",
   "metadata": {},
   "outputs": [
    {
     "data": {
      "text/plain": [
       "0.8268650421873647"
      ]
     },
     "execution_count": 4,
     "metadata": {},
     "output_type": "execute_result"
    }
   ],
   "source": [
    "random.random()"
   ]
  },
  {
   "cell_type": "code",
   "execution_count": 7,
   "id": "bc91adbd",
   "metadata": {},
   "outputs": [
    {
     "data": {
      "text/plain": [
       "[41.333080975129164,\n",
       " 12.277415393640313,\n",
       " 38.375667163954205,\n",
       " -68.78954467869993,\n",
       " 74.50247632100368,\n",
       " -77.84364402281528,\n",
       " -39.07692463434779,\n",
       " -25.402506559067536,\n",
       " -4.4793463214185625,\n",
       " -75.14078305045058]"
      ]
     },
     "execution_count": 7,
     "metadata": {},
     "output_type": "execute_result"
    }
   ],
   "source": [
    "x = 1\n",
    "latitudes_list = []\n",
    "while x < 11:\n",
    "    random_lat = random.randint(-90, 89) + random.random()\n",
    "    latitudes_list.append(random_lat)\n",
    "    x += 1\n",
    "    \n",
    "latitudes_list"
   ]
  },
  {
   "cell_type": "code",
   "execution_count": 8,
   "id": "53685885",
   "metadata": {},
   "outputs": [
    {
     "data": {
      "text/plain": [
       "-72"
      ]
     },
     "execution_count": 8,
     "metadata": {},
     "output_type": "execute_result"
    }
   ],
   "source": [
    "random.randrange(-90, 90, step=3)"
   ]
  },
  {
   "cell_type": "code",
   "execution_count": 9,
   "id": "407579c9",
   "metadata": {},
   "outputs": [
    {
     "data": {
      "text/plain": [
       "6.628710176629724"
      ]
     },
     "execution_count": 9,
     "metadata": {},
     "output_type": "execute_result"
    }
   ],
   "source": [
    "random.uniform(-90, 90)"
   ]
  },
  {
   "cell_type": "code",
   "execution_count": 10,
   "id": "e9744898",
   "metadata": {},
   "outputs": [],
   "source": [
    "# Import the NumPy module.\n",
    "import numpy as np"
   ]
  },
  {
   "cell_type": "code",
   "execution_count": 12,
   "id": "7b7b4d69",
   "metadata": {},
   "outputs": [
    {
     "data": {
      "text/plain": [
       "-56.34929287311271"
      ]
     },
     "execution_count": 12,
     "metadata": {},
     "output_type": "execute_result"
    }
   ],
   "source": [
    "#When we use the NumPy module with the random.uniform() function, the parenthetical parameters contain a lower boundary (low value) and an upper boundary (high value) that are floating-point decimal numbers.\n",
    "\n",
    "np.random.uniform(-90.000, 90.000)"
   ]
  },
  {
   "cell_type": "code",
   "execution_count": 13,
   "id": "b2cda51a",
   "metadata": {},
   "outputs": [
    {
     "data": {
      "text/plain": [
       "array([ 38.89797531,  66.00510416,  35.28974207, -35.30430799,\n",
       "       -12.09936726,  33.06686032,  71.87735986,  15.76814636,\n",
       "       -11.53921369, -17.62313134,  36.97598451, -73.32600823,\n",
       "        59.60663865, -43.33208681,  16.27909693, -68.62912931,\n",
       "        56.96539275,  34.30767245, -56.20083634,   5.03199032,\n",
       "       -55.27463404,  41.70332263,  34.95075644, -57.88769425,\n",
       "       -82.5237198 ,  83.22399295,  87.91748452, -43.19593184,\n",
       "       -30.13094534,  39.93897035, -81.49957446, -24.76807274,\n",
       "       -26.81293425,   8.80050224, -37.03887884, -25.15064478,\n",
       "        11.19868128, -40.52758174, -78.79704988, -51.34295004,\n",
       "       -53.54765201, -31.94258883, -18.15485571,   6.90326695,\n",
       "        29.31303623,  35.36979321, -38.03999069, -59.57921096,\n",
       "        -5.81806626, -89.86970034])"
      ]
     },
     "execution_count": 13,
     "metadata": {},
     "output_type": "execute_result"
    }
   ],
   "source": [
    "# add \"size=i\" to return i number of random values\n",
    "np.random.uniform(-90.000, 90.000, size=50)"
   ]
  },
  {
   "cell_type": "code",
   "execution_count": 14,
   "id": "f969a857",
   "metadata": {},
   "outputs": [
    {
     "name": "stdout",
     "output_type": "stream",
     "text": [
      "27.5 µs ± 1.31 µs per loop (mean ± std. dev. of 7 runs, 10000 loops each)\n"
     ]
    }
   ],
   "source": [
    "# Import timeit.\n",
    "import timeit\n",
    "%timeit np.random.uniform(-90.000, 90.000, size=1500)"
   ]
  },
  {
   "cell_type": "code",
   "execution_count": 15,
   "id": "c31e98b4",
   "metadata": {},
   "outputs": [
    {
     "name": "stdout",
     "output_type": "stream",
     "text": [
      "2.54 ms ± 196 µs per loop (mean ± std. dev. of 7 runs, 100 loops each)\n"
     ]
    }
   ],
   "source": [
    "def latitudes(size):\n",
    "    latitudes = []\n",
    "    x = 0\n",
    "    while x < (size):\n",
    "        random_lat = random.randint(-90, 90) + random.random()\n",
    "        latitudes.append(random_lat)\n",
    "        x += 1\n",
    "    return latitudes\n",
    "# Call the function with 1500.\n",
    "%timeit latitudes(1500)"
   ]
  },
  {
   "cell_type": "code",
   "execution_count": null,
   "id": "6152c76d",
   "metadata": {},
   "outputs": [],
   "source": []
  }
 ],
 "metadata": {
  "kernelspec": {
   "display_name": "PythonData",
   "language": "python",
   "name": "pythondata"
  },
  "language_info": {
   "codemirror_mode": {
    "name": "ipython",
    "version": 3
   },
   "file_extension": ".py",
   "mimetype": "text/x-python",
   "name": "python",
   "nbconvert_exporter": "python",
   "pygments_lexer": "ipython3",
   "version": "3.9.7"
  }
 },
 "nbformat": 4,
 "nbformat_minor": 5
}
