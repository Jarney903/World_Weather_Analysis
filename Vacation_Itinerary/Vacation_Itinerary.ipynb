{
 "cells": [
  {
   "cell_type": "markdown",
   "metadata": {},
   "source": [
    "## Deliverable 3. Create a Travel Itinerary Map."
   ]
  },
  {
   "cell_type": "code",
   "execution_count": 54,
   "metadata": {},
   "outputs": [],
   "source": [
    "# Dependencies and Setup\n",
    "import pandas as pd\n",
    "import requests\n",
    "import gmaps\n",
    "import gmaps.datasets\n",
    "import numpy\n",
    "# Import API key\n",
    "from config import g_key\n",
    "\n",
    "# Configure gmaps\n",
    "gmaps.configure(api_key=g_key)"
   ]
  },
  {
   "cell_type": "code",
   "execution_count": 17,
   "metadata": {},
   "outputs": [
    {
     "data": {
      "text/html": [
       "<div>\n",
       "<style scoped>\n",
       "    .dataframe tbody tr th:only-of-type {\n",
       "        vertical-align: middle;\n",
       "    }\n",
       "\n",
       "    .dataframe tbody tr th {\n",
       "        vertical-align: top;\n",
       "    }\n",
       "\n",
       "    .dataframe thead th {\n",
       "        text-align: right;\n",
       "    }\n",
       "</style>\n",
       "<table border=\"1\" class=\"dataframe\">\n",
       "  <thead>\n",
       "    <tr style=\"text-align: right;\">\n",
       "      <th></th>\n",
       "      <th>City_ID</th>\n",
       "      <th>City</th>\n",
       "      <th>Country</th>\n",
       "      <th>Max Temp</th>\n",
       "      <th>Current Description</th>\n",
       "      <th>Lat</th>\n",
       "      <th>Lng</th>\n",
       "      <th>Hotel Name</th>\n",
       "    </tr>\n",
       "  </thead>\n",
       "  <tbody>\n",
       "    <tr>\n",
       "      <th>0</th>\n",
       "      <td>4</td>\n",
       "      <td>Puerto Ayora</td>\n",
       "      <td>EC</td>\n",
       "      <td>76.96</td>\n",
       "      <td>broken clouds</td>\n",
       "      <td>-0.7393</td>\n",
       "      <td>-90.3518</td>\n",
       "      <td>Finch Bay Galapagos Hotel</td>\n",
       "    </tr>\n",
       "    <tr>\n",
       "      <th>1</th>\n",
       "      <td>29</td>\n",
       "      <td>Victoria</td>\n",
       "      <td>HK</td>\n",
       "      <td>81.18</td>\n",
       "      <td>clear sky</td>\n",
       "      <td>22.2855</td>\n",
       "      <td>114.1577</td>\n",
       "      <td>Mini Hotel Central</td>\n",
       "    </tr>\n",
       "    <tr>\n",
       "      <th>2</th>\n",
       "      <td>31</td>\n",
       "      <td>Sola</td>\n",
       "      <td>VU</td>\n",
       "      <td>82.56</td>\n",
       "      <td>clear sky</td>\n",
       "      <td>-13.8833</td>\n",
       "      <td>167.5500</td>\n",
       "      <td>Leumerus Bungalows</td>\n",
       "    </tr>\n",
       "    <tr>\n",
       "      <th>3</th>\n",
       "      <td>35</td>\n",
       "      <td>Nabire</td>\n",
       "      <td>ID</td>\n",
       "      <td>77.70</td>\n",
       "      <td>overcast clouds</td>\n",
       "      <td>-3.3667</td>\n",
       "      <td>135.4833</td>\n",
       "      <td>Hotel Nusantara I</td>\n",
       "    </tr>\n",
       "    <tr>\n",
       "      <th>4</th>\n",
       "      <td>40</td>\n",
       "      <td>Talaja</td>\n",
       "      <td>IN</td>\n",
       "      <td>85.62</td>\n",
       "      <td>clear sky</td>\n",
       "      <td>21.3500</td>\n",
       "      <td>72.0500</td>\n",
       "      <td>Tofik Memon</td>\n",
       "    </tr>\n",
       "  </tbody>\n",
       "</table>\n",
       "</div>"
      ],
      "text/plain": [
       "   City_ID          City Country  Max Temp Current Description      Lat  \\\n",
       "0        4  Puerto Ayora      EC     76.96       broken clouds  -0.7393   \n",
       "1       29      Victoria      HK     81.18           clear sky  22.2855   \n",
       "2       31          Sola      VU     82.56           clear sky -13.8833   \n",
       "3       35        Nabire      ID     77.70     overcast clouds  -3.3667   \n",
       "4       40        Talaja      IN     85.62           clear sky  21.3500   \n",
       "\n",
       "        Lng                 Hotel Name  \n",
       "0  -90.3518  Finch Bay Galapagos Hotel  \n",
       "1  114.1577         Mini Hotel Central  \n",
       "2  167.5500         Leumerus Bungalows  \n",
       "3  135.4833          Hotel Nusantara I  \n",
       "4   72.0500                Tofik Memon  "
      ]
     },
     "execution_count": 17,
     "metadata": {},
     "output_type": "execute_result"
    }
   ],
   "source": [
    "# 1. Read the WeatherPy_vacation.csv into a DataFrame.\n",
    "vacation_df = pd.read_csv(\"../Vacation_Search/WeatherPy_vacation.csv\")\n",
    "vacation_df.head()"
   ]
  },
  {
   "cell_type": "code",
   "execution_count": 18,
   "metadata": {},
   "outputs": [
    {
     "data": {
      "text/plain": [
       "City_ID                  int64\n",
       "City                    object\n",
       "Country                 object\n",
       "Max Temp               float64\n",
       "Current Description     object\n",
       "Lat                    float64\n",
       "Lng                    float64\n",
       "Hotel Name              object\n",
       "dtype: object"
      ]
     },
     "execution_count": 18,
     "metadata": {},
     "output_type": "execute_result"
    }
   ],
   "source": [
    "# 2. Using the template add the city name, the country code, the weather description and maximum temperature for the city.\n",
    "info_box_template = \"\"\"\n",
    "<dl>\n",
    "<dt>Hotel Name</dt><dd>{Hotel Name}</dd>\n",
    "<dt>City</dt><dd>{City}</dd>\n",
    "<dt>Country</dt><dd>{Country}</dd>\n",
    "<dt>Max Temp</dt><dd>{Max Temp} °F</dd>\n",
    "<dt>Current Weather</dt><dd>{Current Description}</dd>\n",
    "</dl>\n",
    "\"\"\"\n",
    "\n",
    "# 3a. Get the data from each row and add it to the formatting template and store the data in a list.\n",
    "hotel_info = [info_box_template.format(**row) for index, row in vacation_df.iterrows()]\n",
    "\n",
    "\n",
    "\n",
    "# 3b. Get the latitude and longitude from each row and store in a new DataFrame.\n",
    "locations = vacation_df[[\"Lat\", \"Lng\"]]\n",
    "\n",
    "vacation_df.dtypes"
   ]
  },
  {
   "cell_type": "code",
   "execution_count": 19,
   "metadata": {},
   "outputs": [
    {
     "data": {
      "application/vnd.jupyter.widget-view+json": {
       "model_id": "f92a5d6cca0f46a4aacc5c780fd92365",
       "version_major": 2,
       "version_minor": 0
      },
      "text/plain": [
       "Figure(layout=FigureLayout(height='420px'))"
      ]
     },
     "metadata": {},
     "output_type": "display_data"
    }
   ],
   "source": [
    "# 4a. Add a marker layer for each city to the map.\n",
    "\n",
    "# Add a heatmap of temperature for the vacation spots and a pop-up marker for each city.\n",
    "# locations = hotel_df[[\"Lat\", \"Lng\"]]\n",
    "# max_temp = hotel_df[\"Max Temp\"]\n",
    "fig = gmaps.figure(center=(30.0, 31.0), zoom_level=1.5)\n",
    "# heat_layer = gmaps.heatmap_layer(locations, weights=max_temp,dissipating=False,\n",
    "#              max_intensity=300, point_radius=4)\n",
    "marker_layer = gmaps.marker_layer(locations, info_box_content=hotel_info)\n",
    "# fig.add_layer(heat_layer)\n",
    "fig.add_layer(marker_layer)\n",
    "# 4b. Display the figure\n",
    "fig\n"
   ]
  },
  {
   "cell_type": "code",
   "execution_count": 24,
   "metadata": {},
   "outputs": [
    {
     "name": "stdout",
     "output_type": "stream",
     "text": [
      "Where would you like your vacation to start / end? Roma\n",
      "Select 1st stop Bethel\n",
      "Select 2nd stop Westport\n",
      "Select 3rd stop Charlottesville\n"
     ]
    }
   ],
   "source": [
    "# From the map above pick 4 cities and create a vacation itinerary route to travel between the four cities. \n",
    "vac_start = str(input(\"Where would you like your vacation to start / end? \"))\n",
    "vac_stop1 = str(input(\"Select 1st stop \"))\n",
    "vac_stop2 = str(input(\"Select 2nd stop \"))\n",
    "vac_stop3 = str(input(\"Select 3rd stop \"))"
   ]
  },
  {
   "cell_type": "code",
   "execution_count": 71,
   "metadata": {},
   "outputs": [
    {
     "data": {
      "text/plain": [
       "City_ID                  int64\n",
       "City                    object\n",
       "Country                 object\n",
       "Max Temp               float64\n",
       "Current Description     object\n",
       "Lat                    float64\n",
       "Lng                    float64\n",
       "Hotel Name              object\n",
       "dtype: object"
      ]
     },
     "execution_count": 71,
     "metadata": {},
     "output_type": "execute_result"
    }
   ],
   "source": [
    "# 5. Create DataFrames for each city by filtering the 'vacation_df' using the loc method. \n",
    "# Hint: The starting and ending city should be the same city.\n",
    "# Filter the dataset to find the cities that fit the criteria.\n",
    "# preferred_cities_df = city_data_df.loc[(city_data_df[\"Max Temp\"] <= max_temp) & \\\n",
    "#                                        (city_data_df[\"Max Temp\"] >= min_temp)]\n",
    "vacation_start = vacation_df.loc[(vacation_df['City']== vac_start)]\n",
    "vacation_end = vacation_df.loc[(vacation_df['City']== vac_start)]\n",
    "vacation_stop1 = vacation_df.loc[(vacation_df['City']== vac_stop1)]\n",
    "vacation_stop2 = vacation_df.loc[(vacation_df['City']== vac_stop2)] \n",
    "vacation_stop3 = vacation_df.loc[(vacation_df['City']== vac_stop3)] \n",
    "vacation_stop3.dtypes"
   ]
  },
  {
   "cell_type": "code",
   "execution_count": 98,
   "metadata": {},
   "outputs": [],
   "source": [
    "# 6. Get the latitude-longitude pairs as tuples from each city DataFrame using the to_numpy function and list indexing.\n",
    "start = vacation_start.to_numpy()\n",
    "end = start\n",
    "stop1 = vacation_stop1.to_numpy()\n",
    "stop2 = vacation_stop2.to_numpy()\n",
    "stop3 = vacation_stop3.to_numpy()\n",
    "\n",
    "start_tup = start[0,5] , start[0,6]\n",
    "end_tup = end[0,5] , end[0,6]\n",
    "stop1_tup = stop1[0,5] , stop1[0,6]\n",
    "stop2_tup = stop2[0,5] , stop2[0,6]\n",
    "stop3_tup = stop3[0,5] , stop3[0,6]\n",
    "\n"
   ]
  },
  {
   "cell_type": "code",
   "execution_count": 58,
   "metadata": {},
   "outputs": [
    {
     "name": "stdout",
     "output_type": "stream",
     "text": [
      "Select Travel Mode: DRIVING / BICYCLING / WALKING DRIVING\n"
     ]
    }
   ],
   "source": [
    "travel_mode_input = str(input(\"Select Travel Mode: DRIVING / BICYCLING / WALKING \"))"
   ]
  },
  {
   "cell_type": "code",
   "execution_count": 99,
   "metadata": {
    "scrolled": true
   },
   "outputs": [
    {
     "data": {
      "application/vnd.jupyter.widget-view+json": {
       "model_id": "27ec87b0660d4115b6fe30117fce2d2c",
       "version_major": 2,
       "version_minor": 0
      },
      "text/plain": [
       "Figure(layout=FigureLayout(height='420px'))"
      ]
     },
     "metadata": {},
     "output_type": "display_data"
    }
   ],
   "source": [
    "# 7. Create a direction layer map using the start and end latitude-longitude pairs,\n",
    "# and stop1, stop2, and stop3 as the waypoints. The travel_mode should be \"DRIVING\", \"BICYCLING\", or \"WALKING\".\n",
    "fig = gmaps.figure()\n",
    "directions = gmaps.directions_layer(\n",
    "        start_tup, end_tup, waypoints=[stop1_tup, stop2_tup, stop3_tup],\n",
    "        travel_mode= travel_mode_input)\n",
    "fig.add_layer(directions)\n",
    "fig\n",
    "\n"
   ]
  },
  {
   "cell_type": "code",
   "execution_count": 101,
   "metadata": {},
   "outputs": [
    {
     "data": {
      "text/html": [
       "<div>\n",
       "<style scoped>\n",
       "    .dataframe tbody tr th:only-of-type {\n",
       "        vertical-align: middle;\n",
       "    }\n",
       "\n",
       "    .dataframe tbody tr th {\n",
       "        vertical-align: top;\n",
       "    }\n",
       "\n",
       "    .dataframe thead th {\n",
       "        text-align: right;\n",
       "    }\n",
       "</style>\n",
       "<table border=\"1\" class=\"dataframe\">\n",
       "  <thead>\n",
       "    <tr style=\"text-align: right;\">\n",
       "      <th></th>\n",
       "      <th>City_ID</th>\n",
       "      <th>City</th>\n",
       "      <th>Country</th>\n",
       "      <th>Max Temp</th>\n",
       "      <th>Current Description</th>\n",
       "      <th>Lat</th>\n",
       "      <th>Lng</th>\n",
       "      <th>Hotel Name</th>\n",
       "    </tr>\n",
       "  </thead>\n",
       "  <tbody>\n",
       "    <tr>\n",
       "      <th>0</th>\n",
       "      <td>702</td>\n",
       "      <td>Roma</td>\n",
       "      <td>US</td>\n",
       "      <td>77.14</td>\n",
       "      <td>broken clouds</td>\n",
       "      <td>43.2128</td>\n",
       "      <td>-75.4557</td>\n",
       "      <td>Wingate By Wyndham Rome</td>\n",
       "    </tr>\n",
       "    <tr>\n",
       "      <th>1</th>\n",
       "      <td>114</td>\n",
       "      <td>Bethel</td>\n",
       "      <td>US</td>\n",
       "      <td>76.35</td>\n",
       "      <td>clear sky</td>\n",
       "      <td>41.3712</td>\n",
       "      <td>-73.4140</td>\n",
       "      <td>Courtyard by Marriott Danbury</td>\n",
       "    </tr>\n",
       "    <tr>\n",
       "      <th>2</th>\n",
       "      <td>128</td>\n",
       "      <td>Westport</td>\n",
       "      <td>US</td>\n",
       "      <td>75.42</td>\n",
       "      <td>overcast clouds</td>\n",
       "      <td>41.1415</td>\n",
       "      <td>-73.3579</td>\n",
       "      <td>The Inn at Longshore</td>\n",
       "    </tr>\n",
       "    <tr>\n",
       "      <th>3</th>\n",
       "      <td>257</td>\n",
       "      <td>Charlottesville</td>\n",
       "      <td>US</td>\n",
       "      <td>77.41</td>\n",
       "      <td>clear sky</td>\n",
       "      <td>38.0293</td>\n",
       "      <td>-78.4767</td>\n",
       "      <td>Hilton Garden Inn Charlottesville</td>\n",
       "    </tr>\n",
       "  </tbody>\n",
       "</table>\n",
       "</div>"
      ],
      "text/plain": [
       "   City_ID             City Country  Max Temp Current Description      Lat  \\\n",
       "0      702             Roma      US     77.14       broken clouds  43.2128   \n",
       "1      114           Bethel      US     76.35           clear sky  41.3712   \n",
       "2      128         Westport      US     75.42     overcast clouds  41.1415   \n",
       "3      257  Charlottesville      US     77.41           clear sky  38.0293   \n",
       "\n",
       "       Lng                         Hotel Name  \n",
       "0 -75.4557            Wingate By Wyndham Rome  \n",
       "1 -73.4140      Courtyard by Marriott Danbury  \n",
       "2 -73.3579               The Inn at Longshore  \n",
       "3 -78.4767  Hilton Garden Inn Charlottesville  "
      ]
     },
     "execution_count": 101,
     "metadata": {},
     "output_type": "execute_result"
    }
   ],
   "source": [
    "# 8. To create a marker layer map between the four cities.\n",
    "#  Combine the four city DataFrames into one DataFrame using the concat() function.\n",
    "itinerary_df = pd.concat([vacation_start, vacation_stop1, vacation_stop2, vacation_stop3],ignore_index=True)\n",
    "itinerary_df"
   ]
  },
  {
   "cell_type": "code",
   "execution_count": 102,
   "metadata": {},
   "outputs": [],
   "source": [
    "# 9 Using the template add city name, the country code, the weather description and maximum temperature for the city. \n",
    "info_box_template = \"\"\"\n",
    "<dl>\n",
    "<dt>Hotel Name</dt><dd>{Hotel Name}</dd>\n",
    "<dt>City</dt><dd>{City}</dd>\n",
    "<dt>Country</dt><dd>{Country}</dd>\n",
    "<dt>Max Temp</dt><dd>{Max Temp} °F</dd>\n",
    "<dt>Current Weather</dt><dd>{Current Description}</dd>\n",
    "</dl>\n",
    "\"\"\"\n",
    "\n",
    "# 10a Get the data from each row and add it to the formatting template and store the data in a list.\n",
    "hotel_info = [info_box_template.format(**row) for index, row in itinerary_df.iterrows()]\n",
    "\n",
    "# 10b. Get the latitude and longitude from each row and store in a new DataFrame.\n",
    "locations = itinerary_df[[\"Lat\", \"Lng\"]]"
   ]
  },
  {
   "cell_type": "code",
   "execution_count": 103,
   "metadata": {},
   "outputs": [
    {
     "data": {
      "application/vnd.jupyter.widget-view+json": {
       "model_id": "37d1e46117974a1fbdab4f374c1e1919",
       "version_major": 2,
       "version_minor": 0
      },
      "text/plain": [
       "Figure(layout=FigureLayout(height='420px'))"
      ]
     },
     "metadata": {},
     "output_type": "display_data"
    }
   ],
   "source": [
    "# 11a. Add a marker layer for each city to the map.\n",
    "\n",
    "fig = gmaps.figure(center=(30.0, 31.0), zoom_level=1.5)\n",
    "\n",
    "marker_layer = gmaps.marker_layer(locations, info_box_content=hotel_info)\n",
    "\n",
    "fig.add_layer(marker_layer)\n",
    "\n",
    "# 11b. Display the figure\n",
    "fig\n"
   ]
  },
  {
   "cell_type": "code",
   "execution_count": null,
   "metadata": {},
   "outputs": [],
   "source": []
  }
 ],
 "metadata": {
  "kernelspec": {
   "display_name": "PythonData",
   "language": "python",
   "name": "pythondata"
  },
  "language_info": {
   "codemirror_mode": {
    "name": "ipython",
    "version": 3
   },
   "file_extension": ".py",
   "mimetype": "text/x-python",
   "name": "python",
   "nbconvert_exporter": "python",
   "pygments_lexer": "ipython3",
   "version": "3.9.7"
  },
  "latex_envs": {
   "LaTeX_envs_menu_present": true,
   "autoclose": false,
   "autocomplete": true,
   "bibliofile": "biblio.bib",
   "cite_by": "apalike",
   "current_citInitial": 1,
   "eqLabelWithNumbers": true,
   "eqNumInitial": 1,
   "hotkeys": {
    "equation": "Ctrl-E",
    "itemize": "Ctrl-I"
   },
   "labels_anchors": false,
   "latex_user_defs": false,
   "report_style_numbering": false,
   "user_envs_cfg": false
  }
 },
 "nbformat": 4,
 "nbformat_minor": 2
}
